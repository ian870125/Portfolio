{
 "cells": [
  {
   "cell_type": "code",
   "execution_count": 1,
   "metadata": {
    "ExecuteTime": {
     "end_time": "2023-05-30T14:00:15.082517Z",
     "start_time": "2023-05-30T14:00:10.985589Z"
    }
   },
   "outputs": [],
   "source": [
    "import numpy as np\n",
    "import pandas as pd\n",
    "import lightgbm as lgb\n",
    "from sklearn.model_selection import train_test_split\n",
    "from catboost import CatBoostRegressor\n",
    "import xgboost as xgb\n",
    "from IPython.display import display\n",
    "from IPython import get_ipython"
   ]
  },
  {
   "cell_type": "code",
   "execution_count": 2,
   "metadata": {
    "ExecuteTime": {
     "end_time": "2023-05-30T14:00:16.606941Z",
     "start_time": "2023-05-30T14:00:15.224264Z"
    }
   },
   "outputs": [],
   "source": [
    "df = pd.read_excel('2022-train-v2.xlsx')  "
   ]
  },
  {
   "cell_type": "code",
   "execution_count": 3,
   "metadata": {
    "ExecuteTime": {
     "end_time": "2023-05-30T14:00:16.918434Z",
     "start_time": "2023-05-30T14:00:16.905628Z"
    }
   },
   "outputs": [],
   "source": [
    "x = np.nan\n",
    "df = df.replace(x , 0.0)"
   ]
  },
  {
   "cell_type": "code",
   "execution_count": 4,
   "metadata": {
    "ExecuteTime": {
     "end_time": "2023-05-30T14:00:17.619456Z",
     "start_time": "2023-05-30T14:00:17.200901Z"
    }
   },
   "outputs": [
    {
     "data": {
      "text/plain": [
       "25"
      ]
     },
     "execution_count": 4,
     "metadata": {},
     "output_type": "execute_result"
    }
   ],
   "source": [
    "tf_set = []\n",
    "category = []\n",
    "list(df.iloc[0,:] == 0)\n",
    "for i in range(0,len(df)):\n",
    "    if list(df.iloc[i,:] == 0) not in tf_set:\n",
    "        tf_set.append(list(df.iloc[i,:] == 0) )\n",
    "    category.append(tf_set.index(list(df.iloc[i,:] == 0)))\n",
    "len(tf_set)"
   ]
  },
  {
   "cell_type": "code",
   "execution_count": 5,
   "metadata": {
    "ExecuteTime": {
     "end_time": "2023-05-30T14:00:17.915842Z",
     "start_time": "2023-05-30T14:00:17.902020Z"
    }
   },
   "outputs": [],
   "source": [
    "selected_index = [3,12,13,18,19,20,21]\n",
    "selected_index_num = [33,41,44,42,167,49,61,198] \n",
    "selected_cate = []\n",
    "for i in range(25):\n",
    "    if(i in selected_index):\n",
    "        selected_cate.append(tf_set[i])"
   ]
  },
  {
   "cell_type": "code",
   "execution_count": 7,
   "metadata": {
    "ExecuteTime": {
     "end_time": "2023-05-30T14:00:41.022663Z",
     "start_time": "2023-05-30T14:00:40.992290Z"
    }
   },
   "outputs": [
    {
     "data": {
      "text/plain": [
       "0      7\n",
       "1      7\n",
       "2      7\n",
       "3      7\n",
       "4      7\n",
       "      ..\n",
       "630    7\n",
       "631    4\n",
       "632    4\n",
       "633    4\n",
       "634    4\n",
       "Name: new_category, Length: 635, dtype: int64"
      ]
     },
     "execution_count": 7,
     "metadata": {},
     "output_type": "execute_result"
    }
   ],
   "source": [
    "df['category'] = category\n",
    "def cate(r):\n",
    "    if( r['category'] in selected_index ):\n",
    "        return selected_index.index(r['category'])\n",
    "    else:\n",
    "        return 7\n",
    "df['new_category'] = df.apply(cate, axis=1)\n"
   ]
  },
  {
   "cell_type": "code",
   "execution_count": 8,
   "metadata": {},
   "outputs": [],
   "source": [
    "def data_split(r, size ,y_n):\n",
    "    train, test = train_test_split(r, test_size=0.2)\n",
    "    tr_y = train.iloc[:,y_n]\n",
    "    tr_x = train.iloc[:,6:131]\n",
    "    va_y = test.iloc[:,y_n]\n",
    "    va_x = test.iloc[:,6:131]\n",
    "    return ( tr_x, tr_y, va_x , va_y )\n",
    "def lightgbm_reg(df,y_num):\n",
    "    tr_x ,tr_y ,va_x ,va_y = data_split(df , 0.2 , y_n = y_num )\n",
    "    model = lgb.LGBMRegressor()\n",
    "    model.fit(tr_x, tr_y)\n",
    "    pred = model.predict(va_x)\n",
    "    return (np.mean((pred - va_y)**2)) ** 0.5\n",
    "def xgboost_reg(r,y_num):\n",
    "    tr_x ,tr_y ,va_x ,va_y = data_split(r = r , size = 0.2 , y_n = y_num)\n",
    "    xgbr = xgb.XGBRegressor(verbosity=0) \n",
    "    xgbr.fit(tr_x, tr_y)\n",
    "    pred = xgbr.predict(va_x)\n",
    "    return (np.mean((pred - va_y)**2)) ** 0.5\n",
    "def catboost_reg(df,y_num):\n",
    "    tr_x ,tr_y ,va_x ,va_y = data_split(df , 0.2 , y_num)\n",
    "    model = CatBoostRegressor(random_state=42,\n",
    "                             loss_function='RMSE',\n",
    "                             eval_metric='RMSE',\n",
    "                             use_best_model=True)\n",
    "    model.fit(tr_x,tr_y, eval_set=(va_x, va_y), verbose=0)\n",
    "    pred = model.predict(va_x)\n",
    "    return (np.mean((pred - va_y)**2)) ** 0.5\n",
    "def xgb_full(r, y_num):\n",
    "    train, test = train_test_split(r, test_size=0.2)\n",
    "    tr_y = train.iloc[:,y_num]\n",
    "    tr_x = train.iloc[:,6:]\n",
    "    va_y = test.iloc[:,y_num]\n",
    "    va_x = test.iloc[:,6:]\n",
    "    \n",
    "    xgbr = xgb.XGBRegressor(verbosity=0) \n",
    "    xgbr.fit(tr_x.iloc[:,:125], tr_y)\n",
    "    rmse_arr = np.zeros((8))\n",
    "    for i in range(8):\n",
    "        va_xi = va_x[ va_x[ 'new_category'] == i ].iloc[:,:125]\n",
    "        va_yi = va_y[ va_x[ 'new_category'] == i ]\n",
    "        pred_i = xgbr.predict(va_xi)\n",
    "        rmse_arr[i] = ( (np.mean(( pred_i - va_yi)**2)) ** 0.5 ) * selected_index_num[i]\n",
    "    return rmse_arr\n",
    "def light_full(r, y_num):\n",
    "    train, test = train_test_split(r, test_size=0.2)\n",
    "    tr_y = train.iloc[:,y_num]\n",
    "    tr_x = train.iloc[:,6:]\n",
    "    va_y = test.iloc[:,y_num]\n",
    "    va_x = test.iloc[:,6:]\n",
    "       \n",
    "    model = lgb.LGBMRegressor()\n",
    "    model.fit(tr_x.iloc[:,:125], tr_y)\n",
    "    rmse_arr = np.zeros((8))\n",
    "    \n",
    "    for i in range(8):\n",
    "        va_xi = va_x[ va_x[ 'new_category'] == i ].iloc[:,:125]\n",
    "        va_yi = va_y[ va_x[ 'new_category'] == i ]\n",
    "        pred_i = model.predict(va_xi)\n",
    "        rmse_arr[i] = ( (np.mean(( pred_i - va_yi)**2)) ** 0.5 ) * selected_index_num[i]\n",
    "    return rmse_arr\n",
    "def catb_full(r, y_num):\n",
    "    train, test = train_test_split(r, test_size=0.2)\n",
    "    tr_y = train.iloc[:,y_num]\n",
    "    tr_x = train.iloc[:,6:]\n",
    "    va_y = test.iloc[:,y_num]\n",
    "    va_x = test.iloc[:,6:]\n",
    "    model = CatBoostRegressor(random_state=42,\n",
    "                             loss_function='RMSE',\n",
    "                             eval_metric='RMSE',\n",
    "                             use_best_model=True)\n",
    "    model.fit(tr_x.iloc[:,:125],tr_y, eval_set=(va_x.iloc[:,:125], va_y), verbose=0)\n",
    "    rmse_arr = np.zeros((8))\n",
    "    \n",
    "    for i in range(8):\n",
    "        va_xi = va_x[ va_x[ 'new_category'] == i ].iloc[:,:125]\n",
    "        va_yi = va_y[ va_x[ 'new_category'] == i ]\n",
    "        pred_i = model.predict(va_xi)\n",
    "        rmse_arr[i] = ( (np.mean(( pred_i - va_yi)**2)) ** 0.5 ) * selected_index_num[i]\n",
    "    return rmse_arr"
   ]
  },
  {
   "cell_type": "code",
   "execution_count": null,
   "metadata": {},
   "outputs": [],
   "source": [
    "arr = np.zeros((6, 8))\n",
    "rmse_dict = {'xgboost_full':arr.copy(),'lightgbm_full':arr.copy(),\n",
    "             'catboost_full':arr.copy(),'xgboost_split':arr.copy(),\n",
    "             'lightgbm_split':arr.copy(),'catboost_split':arr.copy()}\n",
    "for n in range(5): \n",
    "    for j in range(6): \n",
    "        rmse_ls = []\n",
    "        for i in range(8): \n",
    "            selected_df = df[ df['new_category'] == i]\n",
    "            rmse_dict['xgboost_split'][j][i] += xgboost_reg(selected_df, j) * selected_index_num[i]\n",
    "            rmse_dict['lightgbm_split'][j][i] += lightgbm_reg(selected_df, j) * selected_index_num[i]\n",
    "            rmse_dict['catboost_split'][j][i] += catboost_reg(selected_df, j) * selected_index_num[i]\n",
    "        rmse_dict['xgboost_full'][j] +=  xgb_full(df ,j)\n",
    "        rmse_dict['catboost_full'][j] +=  catb_full(df ,j)\n",
    "        rmse_dict['lightgbm_full'][j] +=  light_full(df ,j)"
   ]
  },
  {
   "cell_type": "code",
   "execution_count": null,
   "metadata": {},
   "outputs": [],
   "source": [
    "best_list = {'y0': [] , 'y1':[], 'y2':[], 'y3':[], \n",
    "              'y4':[], 'y5':[] } \n",
    "for i in range(6):\n",
    "    k_ls = list( rmse_dict.keys ())\n",
    "    new_dict = {}\n",
    "    for k in k_ls:\n",
    "        new_dict[k] = rmse_dict[k][i]\n",
    "    best = pd.DataFrame( new_dict ).idxmin(axis = 1)\n",
    "    best_list[f'y{i}'] = best\n",
    "\n",
    "pd.DataFrame( best_list )"
   ]
  }
 ],
 "metadata": {
  "kernelspec": {
   "display_name": "Python 3 (ipykernel)",
   "language": "python",
   "name": "python3"
  },
  "language_info": {
   "codemirror_mode": {
    "name": "ipython",
    "version": 3
   },
   "file_extension": ".py",
   "mimetype": "text/x-python",
   "name": "python",
   "nbconvert_exporter": "python",
   "pygments_lexer": "ipython3",
   "version": "3.8.8"
  },
  "varInspector": {
   "cols": {
    "lenName": 16,
    "lenType": 16,
    "lenVar": 40
   },
   "kernels_config": {
    "python": {
     "delete_cmd_postfix": "",
     "delete_cmd_prefix": "del ",
     "library": "var_list.py",
     "varRefreshCmd": "print(var_dic_list())"
    },
    "r": {
     "delete_cmd_postfix": ") ",
     "delete_cmd_prefix": "rm(",
     "library": "var_list.r",
     "varRefreshCmd": "cat(var_dic_list()) "
    }
   },
   "types_to_exclude": [
    "module",
    "function",
    "builtin_function_or_method",
    "instance",
    "_Feature"
   ],
   "window_display": false
  }
 },
 "nbformat": 4,
 "nbformat_minor": 2
}
